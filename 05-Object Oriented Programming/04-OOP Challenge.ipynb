{
 "cells": [
  {
   "cell_type": "markdown",
   "metadata": {},
   "source": [
    "# Object Oriented Programming Challenge\n",
    "\n",
    "For this challenge, create a bank account class that has two attributes:\n",
    "\n",
    "* owner\n",
    "* balance\n",
    "\n",
    "and two methods:\n",
    "\n",
    "* deposit\n",
    "* withdraw\n",
    "\n",
    "As an added requirement, withdrawals may not exceed the available balance.\n",
    "\n",
    "Instantiate your class, make several deposits and withdrawals, and test to make sure the account can't be overdrawn."
   ]
  },
  {
   "cell_type": "code",
   "execution_count": 4,
   "metadata": {},
   "outputs": [],
   "source": [
    "# here we create a class named Account\n",
    "class Account:\n",
    "    \n",
    "    # here we create the __init__ function to create the objects owner and balance accordingly\n",
    "    # self parameter refers to the instance of the object itself\n",
    "    # owner and balance parameters is used to pass the values to the attributes\n",
    "    def __init__(self, owner, balance):\n",
    "        # here we assign whatever the values will be passed through the parameters to the attributes\n",
    "        self.owner = owner\n",
    "        self.balance = balance\n",
    "    # here we use magic method, __str__ to allow the class to print the string version of whatever is returned\n",
    "    # so that when we just print the class, it can print the returned value in string format\n",
    "    def __str__(self):\n",
    "        return  \"Account owner: \"+ self.owner+\"\\nAccount balance: $\"+str(self.balance)\n",
    "    \n",
    "    #METHODS\n",
    "    \n",
    "    # this method is carrying a parameter, money. this will bring the int value from the user and\n",
    "    # will increment self.balance attribute with that\n",
    "    def deposit(self,money):\n",
    "        #\n",
    "        self.balance += money\n",
    "        print(\"Ammount deposit successful\")\n",
    "    \n",
    "    # for this method, whatever the user int input will be, will be decremented from\n",
    "    # self.balance.\n",
    "    # but untill the the self.balance has the 0 as it's value or the user input for withdraw is more than self.balance\n",
    "    def withdraw(self,money):\n",
    "        # if self.balance becomes 0, print a messege and don't withdraw\n",
    "        if self.balance == 0:\n",
    "            print(\"Can't withdraw anymore\")\n",
    "        # else if user input money for withdraw is more than the self.balance value, print a messege and don't allow\n",
    "        elif money > self.balance:\n",
    "            print(\"This much ammount isn't available in your account!\")\n",
    "        # else just with draw money and print succes messege!\n",
    "        else:\n",
    "            self.balance -= money\n",
    "            print(\"Money withdraw succesful\")"
   ]
  },
  {
   "cell_type": "code",
   "execution_count": 5,
   "metadata": {},
   "outputs": [],
   "source": [
    "# 1. Instantiate the class\n",
    "acct1 = Account('Jose',100)"
   ]
  },
  {
   "cell_type": "code",
   "execution_count": 6,
   "metadata": {},
   "outputs": [
    {
     "name": "stdout",
     "output_type": "stream",
     "text": [
      "Account owner: Jose\n",
      "Account balance: $100\n"
     ]
    }
   ],
   "source": [
    "# 2. Print the object\n",
    "print(acct1)"
   ]
  },
  {
   "cell_type": "code",
   "execution_count": 7,
   "metadata": {},
   "outputs": [
    {
     "data": {
      "text/plain": [
       "'Jose'"
      ]
     },
     "execution_count": 7,
     "metadata": {},
     "output_type": "execute_result"
    }
   ],
   "source": [
    "# 3. Show the account owner attribute\n",
    "acct1.owner"
   ]
  },
  {
   "cell_type": "code",
   "execution_count": 12,
   "metadata": {},
   "outputs": [
    {
     "data": {
      "text/plain": [
       "75"
      ]
     },
     "execution_count": 12,
     "metadata": {},
     "output_type": "execute_result"
    }
   ],
   "source": [
    "# 4. Show the account balance attribute\n",
    "acct1.balance"
   ]
  },
  {
   "cell_type": "code",
   "execution_count": 9,
   "metadata": {},
   "outputs": [
    {
     "name": "stdout",
     "output_type": "stream",
     "text": [
      "Ammount deposit successful\n"
     ]
    }
   ],
   "source": [
    "# 5. Make a series of deposits and withdrawals\n",
    "acct1.deposit(50)"
   ]
  },
  {
   "cell_type": "code",
   "execution_count": 10,
   "metadata": {},
   "outputs": [
    {
     "name": "stdout",
     "output_type": "stream",
     "text": [
      "Money withdraw succesful\n"
     ]
    }
   ],
   "source": [
    "acct1.withdraw(75)"
   ]
  },
  {
   "cell_type": "code",
   "execution_count": 11,
   "metadata": {},
   "outputs": [
    {
     "name": "stdout",
     "output_type": "stream",
     "text": [
      "This much ammount isn't available in your account!\n"
     ]
    }
   ],
   "source": [
    "# 6. Make a withdrawal that exceeds the available balance\n",
    "acct1.withdraw(500)"
   ]
  },
  {
   "cell_type": "markdown",
   "metadata": {},
   "source": [
    "## Good job!"
   ]
  }
 ],
 "metadata": {
  "kernelspec": {
   "display_name": "Python 3",
   "language": "python",
   "name": "python3"
  },
  "language_info": {
   "codemirror_mode": {
    "name": "ipython",
    "version": 3
   },
   "file_extension": ".py",
   "mimetype": "text/x-python",
   "name": "python",
   "nbconvert_exporter": "python",
   "pygments_lexer": "ipython3",
   "version": "3.6.5"
  }
 },
 "nbformat": 4,
 "nbformat_minor": 2
}
